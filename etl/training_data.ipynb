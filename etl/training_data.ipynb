{
 "cells": [
  {
   "cell_type": "code",
   "execution_count": 4,
   "id": "27c470bd-0bd9-469c-8b3b-1c62737f1fb3",
   "metadata": {},
   "outputs": [
    {
     "ename": "ModuleNotFoundError",
     "evalue": "No module named 'pandas_profiling'",
     "output_type": "error",
     "traceback": [
      "\u001b[0;31m---------------------------------------------------------------------------\u001b[0m",
      "\u001b[0;31mModuleNotFoundError\u001b[0m                       Traceback (most recent call last)",
      "\u001b[0;32m/tmp/ipykernel_66608/228176035.py\u001b[0m in \u001b[0;36m<module>\u001b[0;34m\u001b[0m\n\u001b[1;32m      2\u001b[0m \u001b[0;32mimport\u001b[0m \u001b[0mrequests\u001b[0m\u001b[0;34m\u001b[0m\u001b[0;34m\u001b[0m\u001b[0m\n\u001b[1;32m      3\u001b[0m \u001b[0;32mimport\u001b[0m \u001b[0mtime\u001b[0m\u001b[0;34m\u001b[0m\u001b[0;34m\u001b[0m\u001b[0m\n\u001b[0;32m----> 4\u001b[0;31m \u001b[0;32mimport\u001b[0m \u001b[0mpandas_profiling\u001b[0m\u001b[0;34m\u001b[0m\u001b[0;34m\u001b[0m\u001b[0m\n\u001b[0m\u001b[1;32m      5\u001b[0m \u001b[0;34m\u001b[0m\u001b[0m\n\u001b[1;32m      6\u001b[0m \u001b[0;32mfrom\u001b[0m \u001b[0metl_resources\u001b[0m \u001b[0;32mimport\u001b[0m \u001b[0msqlite_connection\u001b[0m\u001b[0;34m,\u001b[0m \u001b[0mget_api_key\u001b[0m\u001b[0;34m,\u001b[0m \u001b[0mget_symbol_list\u001b[0m\u001b[0;34m\u001b[0m\u001b[0;34m\u001b[0m\u001b[0m\n",
      "\u001b[0;31mModuleNotFoundError\u001b[0m: No module named 'pandas_profiling'"
     ]
    }
   ],
   "source": [
    "import pandas as pd\n",
    "import requests\n",
    "import time\n",
    "import pandas_profiling\n",
    "\n",
    "from etl_resources import sqlite_connection, get_api_key, get_symbol_list"
   ]
  },
  {
   "cell_type": "code",
   "execution_count": 2,
   "id": "394fe679-8371-4306-b0cb-e3b17b1448ec",
   "metadata": {},
   "outputs": [],
   "source": [
    "def base_data():\n",
    "    \n",
    "    con = sqlite_connection()\n",
    "    \n",
    "    qry = '''\n",
    "select \n",
    "w.*,\n",
    "b.*,\n",
    "c.*,\n",
    "i.*,\n",
    "cq.percentchange as cpi_perc_change,\n",
    "cq.valuechange as cpi_val_change,\n",
    "cq.value as cpi_value,\n",
    "f.percentchange as effr_perc_change,\n",
    "f.valuechange as effr_val_change,\n",
    "f.value as effr_value,\n",
    "g.percentchange as gdp_perc_change,\n",
    "g.valuechange as gdp_val_change,\n",
    "g.value as gdp_value,\n",
    "r.percentchange as retail_perc_change,\n",
    "r.valuechange as retail_val_change,\n",
    "r.value as retail_value,\n",
    "u.percentchange as unemp_perc_change,\n",
    "u.valuechange as unemp_val_change,\n",
    "u.value as unemp_value\n",
    "\n",
    "\n",
    "from \n",
    "\n",
    "weekly_prices_qtr w\n",
    "\n",
    "left join balance_sheet_qtr b on b.ticker = w.ticker and b.quarter = w.quarter and b.year = w.year\n",
    "left join cash_flow_qtr c on c.ticker = w.ticker and c.quarter = w.quarter and c.year = w.year\n",
    "left join income_statement_qtr i on i.ticker = w.ticker and i.quarter = w.quarter and i.year = w.year\n",
    "left join cpi_qtr cq on cq.quarter = w.quarter and cq.year = w.year\n",
    "left join federal_funds_qtr f on f.quarter = w.quarter and f.year = w.year\n",
    "left join gdp_qtr g on g.quarter = w.quarter and g.year = w.year\n",
    "left join retail_sales_qtr r on r.quarter = w.quarter and r.year = w.year\n",
    "left join unemployment_qtr u on u.quarter = w.quarter and u.year = w.year\n",
    "\n",
    "where b.fiscaldateending is not null\n",
    "\n",
    "order by w.ticker, w.year, w.quarter\n",
    "    '''\n",
    "    \n",
    "    df = pd.read_sql(qry, con=con)\n",
    "    \n",
    "    df = df.loc[:,~df.columns.duplicated()]\n",
    "    \n",
    "    df.to_sql(name='training', con=con, if_exists='replace')"
   ]
  },
  {
   "cell_type": "code",
   "execution_count": null,
   "id": "116416cb-fb0f-467d-835c-f6c10a37f482",
   "metadata": {},
   "outputs": [],
   "source": []
  },
  {
   "cell_type": "code",
   "execution_count": 3,
   "id": "cb3ca547-fe70-46b5-8cf4-9fdba445e4d5",
   "metadata": {},
   "outputs": [],
   "source": [
    "base_data()"
   ]
  }
 ],
 "metadata": {
  "kernelspec": {
   "display_name": "Python 3 (ipykernel)",
   "language": "python",
   "name": "python3"
  },
  "language_info": {
   "codemirror_mode": {
    "name": "ipython",
    "version": 3
   },
   "file_extension": ".py",
   "mimetype": "text/x-python",
   "name": "python",
   "nbconvert_exporter": "python",
   "pygments_lexer": "ipython3",
   "version": "3.8.10"
  }
 },
 "nbformat": 4,
 "nbformat_minor": 5
}
