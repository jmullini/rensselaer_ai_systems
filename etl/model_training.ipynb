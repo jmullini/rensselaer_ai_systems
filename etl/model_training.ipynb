{
 "cells": [
  {
   "cell_type": "code",
   "execution_count": 1,
   "id": "27c470bd-0bd9-469c-8b3b-1c62737f1fb3",
   "metadata": {},
   "outputs": [],
   "source": [
    "import pandas as pd\n",
    "import numpy as np\n",
    "from sklearn.model_selection import (train_test_split,\n",
    "                                     RepeatedStratifiedKFold,\n",
    "                                     cross_val_score)\n",
    "\n",
    "# Feature Selection\n",
    "from sklearn.feature_selection import RFE\n",
    "from sklearn.feature_selection import RFECV\n",
    "\n",
    "# ML libs\n",
    "from sklearn.model_selection import train_test_split\n",
    "from sklearn import metrics                                   \n",
    "\n",
    "# Models\n",
    "from sklearn.linear_model import (LinearRegression, \n",
    "                                  Ridge, \n",
    "                                  BayesianRidge)\n",
    "\n",
    "from sklearn.ensemble import (GradientBoostingRegressor,\n",
    "                              RandomForestRegressor)\n",
    "\n",
    "from sklearn.neighbors import KNeighborsRegressor\n",
    "\n",
    "from sklearn.tree import DecisionTreeRegressor\n",
    "\n",
    "from sklearn.svm import SVR\n",
    "# Viz libs\n",
    "import matplotlib.pyplot as plt \n",
    "\n",
    "from etl_resources import sqlite_connection"
   ]
  },
  {
   "cell_type": "code",
   "execution_count": 2,
   "id": "fe9e571a-1f38-423b-9931-6048ed9ff848",
   "metadata": {},
   "outputs": [],
   "source": [
    "def base_data():\n",
    "    con = sqlite_connection()\n",
    "    df = pd.read_sql('select * from training_clean',con=con)\n",
    "    return df"
   ]
  },
  {
   "cell_type": "code",
   "execution_count": 3,
   "id": "da70fb79-ed9f-4101-8f5a-4be4416c9b14",
   "metadata": {},
   "outputs": [],
   "source": [
    "def residual_plot(y_pred, residuals):\n",
    "    \n",
    "    plt.scatter(y_pred, residuals)\n",
    "    plt.title(\"residual plot\")\n",
    "    plt.xlabel(\"price\")\n",
    "    plt.ylabel(\"residuals\")\n",
    "    plt.axhline(0, color='red')\n",
    "    plt.show()"
   ]
  },
  {
   "cell_type": "code",
   "execution_count": 4,
   "id": "394fe679-8371-4306-b0cb-e3b17b1448ec",
   "metadata": {},
   "outputs": [],
   "source": [
    "def select_features(df):\n",
    "    \n",
    "    non_nums = ['date','index','quarter','year','ticker','fiscaldateending','close','close_pct','close_val']\n",
    "    features = [f for f in df.columns if f not in non_nums]\n",
    "    X = df[features]\n",
    "    Y = df['close'].values\n",
    "    \n",
    "    return X, Y"
   ]
  },
  {
   "cell_type": "code",
   "execution_count": 5,
   "id": "c1e4e4a4-9f19-45da-8980-a28ba5bb9f88",
   "metadata": {},
   "outputs": [],
   "source": [
    "def feature_select_recursive(X, Y, model, name):\n",
    "        \n",
    "    rfe = RFECV(model)\n",
    "    \n",
    "    rfe = rfe.fit(X, Y)\n",
    "    \n",
    "    cols = list(X.columns)\n",
    "    features = pd.Series(rfe.support_,index = cols)\n",
    "    \n",
    "    selected_features_rfe = features[features==True].index.tolist()\n",
    "    \n",
    "    print('\\n')\n",
    "    print('Selected Features for:', name)\n",
    "    print(selected_features_rfe)\n",
    "    print('\\n')\n",
    "\n",
    "    return selected_features_rfe\n"
   ]
  },
  {
   "cell_type": "code",
   "execution_count": 6,
   "id": "8860883b-a037-4759-9215-83e14f1574af",
   "metadata": {},
   "outputs": [],
   "source": [
    "def profile_data():\n",
    "    \n",
    "    con = sqlite_connection()\n",
    "    \n",
    "    qry = '''select * from training'''\n",
    "    \n",
    "    df = pd.read_sql(qry, con=con)\n",
    "    \n",
    "    profile = ProfileReport(df, title='training profile')\n",
    "    profile.to_file('../data/profiles/pre-training.html')"
   ]
  },
  {
   "cell_type": "code",
   "execution_count": 7,
   "id": "a9cf280d-a34b-437f-907e-f0374d280599",
   "metadata": {},
   "outputs": [],
   "source": [
    "def model_selection():\n",
    "    \n",
    "    df = base_data()\n",
    "    df = df[~df.isin([np.nan, np.inf, -np.inf]).any(1)]\n",
    "    \n",
    "    models = list()\n",
    "    \n",
    "    # Try these models first\n",
    "    models.append(('GBR', GradientBoostingRegressor())) \n",
    "    models.append(('RFR',RandomForestRegressor(n_jobs=-1))) \n",
    "    #models.append(('MLR', LinearRegression()))\n",
    "    #models.append(('Ridge', Ridge()))\n",
    "    #models.append(('Bayes Ridge', BayesianRidge()))\n",
    "    #models.append(('KNN',KNeighborsRegressor()))\n",
    "    #models.append(('Decision Tree',DecisionTreeRegressor(max_depth=1)))\n",
    "    #models.append(('SVM',SVR()))\n",
    "    \n",
    "    for name, model in models:\n",
    "        \n",
    "        print('\\n{}'.format(name))\n",
    "        print('------------------------------------------------------')\n",
    "        print('------------------------------------------------------')\n",
    "        \n",
    "        # Split out X, Y\n",
    "        \n",
    "        X,Y = select_features(df)\n",
    "        \n",
    "        if name not in ['KNN','SVM']:\n",
    "            \n",
    "            features = feature_select_recursive(X, Y, model, name)\n",
    "        \n",
    "            # Apply the feature selection\n",
    "            X = X[features]\n",
    "        \n",
    "        # Break out train and test sets (using 80% train 20% test)\n",
    "        X_train, X_test, y_train, y_test = train_test_split(X, Y, test_size=0.2, random_state=1)\n",
    "        \n",
    "        # Fit the model to the training split\n",
    "        model.fit(X_train, y_train)\n",
    "        \n",
    "        # Make predictions\n",
    "        y_pred = model.predict(X_test)\n",
    "                \n",
    "        print('Regression Metrics:')\n",
    "        scores = {\n",
    "        'mean_squared_error':metrics.mean_squared_error(y_test, y_pred).round(2),\n",
    "        'root_mean_squared_error': np.sqrt(metrics.mean_squared_error(y_test, y_pred)).round(2),\n",
    "        'mean_absolute_error':metrics.mean_absolute_error(y_test, y_pred).round(2),\n",
    "        'explained_variance_score':metrics.explained_variance_score(y_test, y_pred).round(2),\n",
    "        'r2_score':metrics.r2_score(y_test, y_pred).round(2)\n",
    "        }\n",
    "        \n",
    "        for metric, score in scores.items():\n",
    "            print(metric+':', score)\n",
    "        \n",
    "        residuals = y_test-y_pred\n",
    "        \n",
    "        residual_plot(y_pred, residuals)\n",
    "        \n",
    "        #print('\\nWriting out {} to disk'.format(name))\n",
    "        #filename = 'models/{}.sav'.format(name)\n",
    "        #pickle.dump(model, open(filename, 'wb'))\n",
    "        \n",
    "        print('\\n------------------------------------------------------')"
   ]
  },
  {
   "cell_type": "code",
   "execution_count": 8,
   "id": "bb75441c-63a8-4624-ad43-caa9f7b3e89f",
   "metadata": {},
   "outputs": [
    {
     "name": "stdout",
     "output_type": "stream",
     "text": [
      "\n",
      "GBR\n",
      "------------------------------------------------------\n",
      "------------------------------------------------------\n",
      "\n",
      "\n",
      "Selected Features for: GBR\n",
      "['othernoncurrentliabilities', 'commonstocksharesoutstanding', 'researchanddevelopment']\n",
      "\n",
      "\n",
      "Regression Metrics:\n",
      "mean_squared_error: 4814.13\n",
      "root_mean_squared_error: 69.38\n",
      "mean_absolute_error: 41.22\n",
      "explained_variance_score: 0.93\n",
      "r2_score: 0.93\n"
     ]
    },
    {
     "data": {
      "image/png": "[encoded data removed]",
      "text/plain": [
       "<Figure size 432x288 with 1 Axes>"
      ]
     },
     "metadata": {
      "needs_background": "light"
     },
     "output_type": "display_data"
    },
    {
     "name": "stdout",
     "output_type": "stream",
     "text": [
      "\n",
      "------------------------------------------------------\n",
      "\n",
      "RFR\n",
      "------------------------------------------------------\n",
      "------------------------------------------------------\n",
      "\n",
      "\n",
      "Selected Features for: RFR\n",
      "['researchanddevelopment']\n",
      "\n",
      "\n",
      "Regression Metrics:\n",
      "mean_squared_error: 25503.95\n",
      "root_mean_squared_error: 159.7\n",
      "mean_absolute_error: 91.81\n",
      "explained_variance_score: 0.65\n",
      "r2_score: 0.64\n"
     ]
    },
    {
     "data": {
      "image/png": "[encoded data removed]",
      "text/plain": [
       "<Figure size 432x288 with 1 Axes>"
      ]
     },
     "metadata": {
      "needs_background": "light"
     },
     "output_type": "display_data"
    },
    {
     "name": "stdout",
     "output_type": "stream",
     "text": [
      "\n",
      "------------------------------------------------------\n"
     ]
    }
   ],
   "source": [
    "model_selection()"
   ]
  }
 ],
 "metadata": {
  "kernelspec": {
   "display_name": "Python 3 (ipykernel)",
   "language": "python",
   "name": "python3"
  },
  "language_info": {
   "codemirror_mode": {
    "name": "ipython",
    "version": 3
   },
   "file_extension": ".py",
   "mimetype": "text/x-python",
   "name": "python",
   "nbconvert_exporter": "python",
   "pygments_lexer": "ipython3",
   "version": "3.8.10"
  }
 },
 "nbformat": 4,
 "nbformat_minor": 5
}
