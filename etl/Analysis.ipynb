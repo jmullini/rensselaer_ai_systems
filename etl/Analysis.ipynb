{
 "cells": [
  {
   "cell_type": "code",
   "execution_count": 1,
   "id": "27c470bd-0bd9-469c-8b3b-1c62737f1fb3",
   "metadata": {},
   "outputs": [],
   "source": [
    "import pandas as pd\n",
    "import numpy as np\n",
    "from sklearn.model_selection import (train_test_split,\n",
    "                                     RepeatedStratifiedKFold,\n",
    "                                     cross_val_score)\n",
    "\n",
    "# Feature Selection\n",
    "from sklearn.feature_selection import RFE\n",
    "\n",
    "# ML libs\n",
    "from sklearn.model_selection import train_test_split\n",
    "from sklearn import metrics                                   \n",
    "\n",
    "# Models\n",
    "from sklearn.linear_model import (LinearRegression, \n",
    "                                  Ridge, \n",
    "                                  BayesianRidge)\n",
    "\n",
    "from sklearn.ensemble import (GradientBoostingRegressor,\n",
    "                              RandomForestRegressor)\n",
    "\n",
    "from sklearn.neighbors import KNeighborsRegressor\n",
    "\n",
    "from sklearn.tree import DecisionTreeRegressor\n",
    "\n",
    "from sklearn.svm import SVR\n",
    "# Viz libs\n",
    "import matplotlib.pyplot as plt \n",
    "\n",
    "from etl_resources import sqlite_connection"
   ]
  },
  {
   "cell_type": "code",
   "execution_count": 2,
   "id": "fe9e571a-1f38-423b-9931-6048ed9ff848",
   "metadata": {},
   "outputs": [],
   "source": [
    "def base_data():\n",
    "    con = sqlite_connection()\n",
    "    df = pd.read_sql('select * from training_clean',con=con)\n",
    "    return df"
   ]
  },
  {
   "cell_type": "code",
   "execution_count": 3,
   "id": "da70fb79-ed9f-4101-8f5a-4be4416c9b14",
   "metadata": {},
   "outputs": [],
   "source": [
    "def residual_plot(y_pred, residuals):\n",
    "    \n",
    "    plt.scatter(y_pred, residuals)\n",
    "    plt.title(\"residual plot\")\n",
    "    plt.xlabel(\"price\")\n",
    "    plt.ylabel(\"residuals\")\n",
    "    plt.axhline(0, color='red')\n",
    "    plt.show()"
   ]
  },
  {
   "cell_type": "code",
   "execution_count": 4,
   "id": "394fe679-8371-4306-b0cb-e3b17b1448ec",
   "metadata": {},
   "outputs": [],
   "source": [
    "def select_features(df):\n",
    "    \n",
    "    non_nums = ['date','index','quarter','year','ticker','fiscaldateending','close','close_pct','close_val']\n",
    "    features = [f for f in df.columns if f not in non_nums]\n",
    "    \n",
    "    X = df[features]\n",
    "    Y = df['close'].values\n",
    "    #print(features)\n",
    "    \n",
    "    return X, Y"
   ]
  },
  {
   "cell_type": "code",
   "execution_count": 5,
   "id": "8860883b-a037-4759-9215-83e14f1574af",
   "metadata": {},
   "outputs": [],
   "source": [
    "def profile_data():\n",
    "    \n",
    "    con = sqlite_connection()\n",
    "    \n",
    "    qry = '''select * from training'''\n",
    "    \n",
    "    df = pd.read_sql(qry, con=con)\n",
    "    \n",
    "    profile = ProfileReport(df, title='training profile')\n",
    "    profile.to_file('../data/profiles/pre-training.html')"
   ]
  },
  {
   "cell_type": "code",
   "execution_count": 6,
   "id": "c0f31d50-5a09-4df0-96f4-d3f270e0af34",
   "metadata": {},
   "outputs": [],
   "source": [
    "cols = ['totalassets', 'inventory', 'currentnetreceivables', 'totalnoncurrentassets', 'propertyplantequipment', 'accumulateddepreciationamortizationppe', 'intangibleassetsexcludinggoodwill', 'goodwill', 'othercurrentassets', 'othernoncurrrentassets', 'totalcurrentliabilities', 'currentaccountspayable', 'deferredrevenue', 'shorttermdebt', 'totalnoncurrentliabilities', 'capitalleaseobligations', 'longtermdebtnoncurrent', 'shortlongtermdebttotal', 'othernoncurrentliabilities', 'totalshareholderequity', 'treasurystock', 'retainedearnings', 'commonstock', 'commonstocksharesoutstanding', 'totalassets_pct', 'cashandcashequivalentsatcarryingvalue_pct', 'inventory_pct', 'currentnetreceivables_pct', 'propertyplantequipment_pct', 'accumulateddepreciationamortizationppe_pct', 'intangibleassetsexcludinggoodwill_pct', 'goodwill_pct', 'currentaccountspayable_pct', 'deferredrevenue_pct', 'currentdebt_pct', 'shorttermdebt_pct', 'totalnoncurrentliabilities_pct', 'longtermdebtnoncurrent_pct', 'shortlongtermdebttotal_pct', 'othercurrentliabilities_pct', 'othernoncurrentliabilities_pct', 'totalshareholderequity_pct', 'commonstocksharesoutstanding_pct', 'totalassets_val', 'currentnetreceivables_val', 'propertyplantequipment_val', 'investments_val', 'shortterminvestments_val', 'totalcurrentliabilities_val', 'currentdebt_val', 'shorttermdebt_val', 'totalshareholderequity_val', 'treasurystock_val', 'retainedearnings_val', 'commonstock_val', 'commonstocksharesoutstanding_val', 'paymentsforoperatingactivities', 'changeinoperatingliabilities', 'changeinoperatingassets', 'depreciationdepletionandamortization', 'capitalexpenditures', 'cashflowfrominvestment', 'paymentsforrepurchaseofcommonstock', 'dividendpayout', 'dividendpayoutcommonstock', 'dividendpayoutpreferredstock', 'changeinexchangerate', 'netincome', 'proceedsfromoperatingactivities_pct', 'changeinoperatingliabilities_pct', 'changeinoperatingassets_pct', 'changeinreceivables_pct', 'profitloss_pct', 'dividendpayout_pct', 'dividendpayoutcommonstock_pct', 'proceedsfromoperatingactivities_val', 'dividendpayoutcommonstock_val', 'changeinexchangerate_val', 'totalrevenue', 'costofgoodsandservicessold', 'operatingincome', 'sellinggeneralandadministrative', 'researchanddevelopment', 'operatingexpenses', 'investmentincomenet', 'noninterestincome', 'othernonoperatingincome', 'depreciation', 'depreciationandamortization', 'incometaxexpense', 'interestanddebtexpense', 'netincomefromcontinuingoperations', 'ebit', 'ebitda', 'grossprofit_pct', 'totalrevenue_pct', 'investmentincomenet_pct', 'interestexpense_pct', 'noninterestincome_pct', 'incometaxexpense_pct', 'interestanddebtexpense_pct', 'ebitda_pct', 'researchanddevelopment_val', 'investmentincomenet_val', 'incomebeforetax_val', 'interestanddebtexpense_val', 'netincomefromcontinuingoperations_val', 'ebit_val', 'ebitda_val', 'cpi_perc_change', 'cpi_val_change', 'cpi_value', 'effr_val_change', 'effr_value', 'gdp_perc_change', 'gdp_val_change', 'gdp_value', 'retail_perc_change', 'retail_val_change', 'retail_value', 'unemp_perc_change', 'unemp_value']"
   ]
  },
  {
   "cell_type": "code",
   "execution_count": 12,
   "id": "f445f21e-715b-4c42-af04-f79de6e7b580",
   "metadata": {},
   "outputs": [],
   "source": [
    "df = base_data()\n",
    "df = df[cols]\n",
    "df.corr().to_csv('correlation.csv')"
   ]
  }
 ],
 "metadata": {
  "kernelspec": {
   "display_name": "Python 3 (ipykernel)",
   "language": "python",
   "name": "python3"
  },
  "language_info": {
   "codemirror_mode": {
    "name": "ipython",
    "version": 3
   },
   "file_extension": ".py",
   "mimetype": "text/x-python",
   "name": "python",
   "nbconvert_exporter": "python",
   "pygments_lexer": "ipython3",
   "version": "3.8.10"
  }
 },
 "nbformat": 4,
 "nbformat_minor": 5
}
