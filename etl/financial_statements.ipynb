{
 "cells": [
  {
   "cell_type": "code",
   "execution_count": 1,
   "id": "27c470bd-0bd9-469c-8b3b-1c62737f1fb3",
   "metadata": {},
   "outputs": [],
   "source": [
    "import pandas as pd\n",
    "import requests\n",
    "import time\n",
    "\n",
    "from etl_resources import sqlite_connection, get_api_key, get_symbol_list"
   ]
  },
  {
   "cell_type": "code",
   "execution_count": 2,
   "id": "65051cc2-da54-468a-9a8a-c1b3224fb663",
   "metadata": {},
   "outputs": [],
   "source": [
    "def build_statements_dataset():\n",
    "    \n",
    "    '''\n",
    "    This function uses the alphavantage api to pull financial statements for \n",
    "    S&P 100 equities. Balance sheets, cash flow, income statements, and earnings\n",
    "    estimates are included.\n",
    "    '''\n",
    "    \n",
    "    api_key = get_api_key()\n",
    "    symbol_list = get_symbol_list()\n",
    "    con = sqlite_connection()\n",
    "    \n",
    "    statements = {'INCOME_STATEMENT':'quarterlyReports',\n",
    "                  'BALANCE_SHEET':'quarterlyReports',\n",
    "                  'CASH_FLOW':'quarterlyReports'}\n",
    "    \n",
    "    for statement, filters in statements.items(): \n",
    "        \n",
    "        for symbol in symbol_list:\n",
    "\n",
    "            time.sleep(20) # Handle the rate limiter\n",
    "            url = f\"https://www.alphavantage.co/query?function={statement}&symbol={symbol}&apikey={api_key}\"\n",
    "\n",
    "            try:\n",
    "                \n",
    "                print(f\"Parsing {statement} for {symbol}\")\n",
    "                response = requests.get(url)\n",
    "                json = response.json()[f\"{filters}\"]\n",
    "                df = pd.DataFrame.from_dict(json)\n",
    "                df['ticker'] = symbol\n",
    "\n",
    "                table_name = statement.lower() \n",
    "                df.to_sql(name=table_name, if_exists='append', index=False, con=con)\n",
    "\n",
    "            except:\n",
    "                # TODO: Better failure logging\n",
    "                print(f\"Failed: {url}\")\n",
    " \n"
   ]
  },
  {
   "cell_type": "code",
   "execution_count": null,
   "id": "762db278-d3f7-44e6-b717-7431ab75f517",
   "metadata": {},
   "outputs": [],
   "source": [
    "build_statements_dataset()"
   ]
  }
 ],
 "metadata": {
  "kernelspec": {
   "display_name": "Python 3 (ipykernel)",
   "language": "python",
   "name": "python3"
  },
  "language_info": {
   "codemirror_mode": {
    "name": "ipython",
    "version": 3
   },
   "file_extension": ".py",
   "mimetype": "text/x-python",
   "name": "python",
   "nbconvert_exporter": "python",
   "pygments_lexer": "ipython3",
   "version": "3.8.10"
  }
 },
 "nbformat": 4,
 "nbformat_minor": 5
}
