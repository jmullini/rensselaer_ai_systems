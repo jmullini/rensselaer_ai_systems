{
 "cells": [
  {
   "cell_type": "code",
   "execution_count": 1,
   "id": "27c470bd-0bd9-469c-8b3b-1c62737f1fb3",
   "metadata": {},
   "outputs": [],
   "source": [
    "import pandas as pd\n",
    "import requests\n",
    "import time\n",
    "\n",
    "from etl_resources import sqlite_connection, get_api_key, get_symbol_list"
   ]
  },
  {
   "cell_type": "code",
   "execution_count": 2,
   "id": "65051cc2-da54-468a-9a8a-c1b3224fb663",
   "metadata": {},
   "outputs": [],
   "source": [
    "def build_statements_dataset():\n",
    "    \n",
    "    '''\n",
    "    This function uses the alphavantage api to pull financial statements for \n",
    "    S&P 100 equities. Balance sheets, cash flow, income statements, and earnings\n",
    "    estimates are included.\n",
    "    '''\n",
    "    \n",
    "    api_key = get_api_key()\n",
    "    symbol_list = get_symbol_list()\n",
    "    con = sqlite_connection()\n",
    "    \n",
    "    statements = {'INCOME_STATEMENT':'quarterlyReports',\n",
    "                  'BALANCE_SHEET':'quarterlyReports',\n",
    "                  'CASH_FLOW':'quarterlyReports'}\n",
    "    \n",
    "    for statement, filters in statements.items(): \n",
    "        \n",
    "        for symbol in symbol_list:\n",
    "\n",
    "            time.sleep(20) # Handle the rate limiter\n",
    "            url = f\"https://www.alphavantage.co/query?function={statement}&symbol={symbol}&apikey={api_key}\"\n",
    "\n",
    "            try:\n",
    "                \n",
    "                print(f\"Parsing {statement} for {symbol}\")\n",
    "                response = requests.get(url)\n",
    "                json = response.json()[f\"{filters}\"]\n",
    "                df = pd.DataFrame.from_dict(json)\n",
    "                df['ticker'] = symbol\n",
    "\n",
    "                table_name = statement.lower() \n",
    "                df.to_sql(name=table_name, if_exists='append', index=False, con=con)\n",
    "\n",
    "            except:\n",
    "                # TODO: Better failure logging\n",
    "                print(f\"Failed: {url}\")\n",
    " \n"
   ]
  },
  {
   "cell_type": "code",
   "execution_count": 3,
   "id": "428c116e-fd60-4a4c-9854-6a85981c866f",
   "metadata": {},
   "outputs": [],
   "source": [
    "def process_financials():\n",
    "    \n",
    "    con = sqlite_connection()\n",
    "    \n",
    "    tables = ['balance_sheet','cash_flow','income_statement']\n",
    "    \n",
    "    non_nums = ['fiscalDateEnding','reportedCurrency','ticker']\n",
    "    \n",
    "    for table in tables:\n",
    "        print(f'Processing {table}')\n",
    "        df = pd.read_sql(f\"select * from {table}\",con=con)\n",
    "        \n",
    "        nums = [col for col in df.columns if col not in non_nums]\n",
    "        \n",
    "        for field in nums:\n",
    "            df[field] = pd.to_numeric(df[field],errors='coerce')\n",
    "        \n",
    "        df['fiscalDateEnding'] = pd.to_datetime(df['fiscalDateEnding'])\n",
    "        \n",
    "        df.columns = [col.lower().strip() for col in df.columns]\n",
    "        \n",
    "        df.to_sql(name=f\"{table}_clean\",con=con, if_exists='replace')\n",
    "        \n",
    "    "
   ]
  },
  {
   "cell_type": "code",
   "execution_count": 4,
   "id": "9564bf97-2912-4cfd-8e5c-a650af5dd998",
   "metadata": {},
   "outputs": [],
   "source": [
    "def process_timeseries_differences():\n",
    "    \n",
    "    con = sqlite_connection()\n",
    "    cur = con.cursor()\n",
    "    tables = ['balance_sheet','cash_flow','income_statement']\n",
    "    \n",
    "    for table in tables:\n",
    "        \n",
    "        print(f\"Working on {table}s\")\n",
    "        try:\n",
    "            cur.execute(f\"drop table {table}_qtr\")\n",
    "        except:\n",
    "            print(f\"{table}_qtr doesnt exist\")\n",
    "\n",
    "\n",
    "        cur.execute(f\"select distinct ticker from {table}_clean\")\n",
    "        res = cur.fetchall()\n",
    "        res = [val[0] for val in res]\n",
    "\n",
    "        for ticker in res:\n",
    "\n",
    "            qry = f'''\n",
    "        select b.*,c.quarter, c.year from {table}_clean b\n",
    "\n",
    "        left join calendar c on b.fiscaldateending = c.date\n",
    "        where b.ticker='{ticker}'\n",
    "        order by b.ticker, c.year, c.quarter\n",
    "            '''\n",
    "\n",
    "            df = pd.read_sql(qry,con=con)\n",
    "            df = df.drop(columns=['reportedcurrency','index'])\n",
    "            df = df.set_index(['fiscaldateending', 'quarter','year', 'ticker'])\n",
    "            perc_df = df.pct_change()\n",
    "            diff_df = df.fillna(0)\n",
    "            diff_df = diff_df.diff()\n",
    "\n",
    "            combined_df = pd.merge(perc_df, diff_df, on=['fiscaldateending','quarter','year','ticker'])\n",
    "            combined_df.columns = [col.replace('_x','_pct').replace('_y','_val') for col in combined_df.columns]\n",
    "            final_df = pd.merge(df,combined_df, on=['fiscaldateending','quarter','year','ticker'])\n",
    "\n",
    "            final_df.to_sql(name=f'{table}_qtr',if_exists='append', con=con)"
   ]
  },
  {
   "cell_type": "code",
   "execution_count": 5,
   "id": "762db278-d3f7-44e6-b717-7431ab75f517",
   "metadata": {},
   "outputs": [
    {
     "name": "stdout",
     "output_type": "stream",
     "text": [
      "Working on balance_sheets\n",
      "Working on cash_flows\n",
      "Working on income_statements\n"
     ]
    }
   ],
   "source": [
    "#build_statements_dataset()\n",
    "#process_financials()\n",
    "process_timeseries_differences()"
   ]
  }
 ],
 "metadata": {
  "kernelspec": {
   "display_name": "Python 3 (ipykernel)",
   "language": "python",
   "name": "python3"
  },
  "language_info": {
   "codemirror_mode": {
    "name": "ipython",
    "version": 3
   },
   "file_extension": ".py",
   "mimetype": "text/x-python",
   "name": "python",
   "nbconvert_exporter": "python",
   "pygments_lexer": "ipython3",
   "version": "3.8.10"
  }
 },
 "nbformat": 4,
 "nbformat_minor": 5
}
