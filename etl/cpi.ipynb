{
 "cells": [
  {
   "cell_type": "code",
   "execution_count": 1,
   "id": "27c470bd-0bd9-469c-8b3b-1c62737f1fb3",
   "metadata": {},
   "outputs": [],
   "source": [
    "import pandas as pd\n",
    "import requests\n",
    "import time\n",
    "\n",
    "from etl_resources import sqlite_connection, get_api_key, get_symbol_list"
   ]
  },
  {
   "cell_type": "code",
   "execution_count": 2,
   "id": "65051cc2-da54-468a-9a8a-c1b3224fb663",
   "metadata": {},
   "outputs": [],
   "source": [
    "def build_cpi_dataset():\n",
    "    \n",
    "    '''\n",
    "    This function uses the alphavantage api to pull CPI by month\n",
    "    '''\n",
    "    \n",
    "    api_key = get_api_key()\n",
    "    con = sqlite_connection()\n",
    "\n",
    "    url = f\"https://www.alphavantage.co/query?function=CPI&interval=monthly&apikey={api_key}\"\n",
    "\n",
    "    try:\n",
    "                \n",
    "        print(f\"Parsing CPI data\")\n",
    "        response = requests.get(url)\n",
    "        json = response.json()[\"data\"]\n",
    "        df = pd.DataFrame.from_dict(json)\n",
    " \n",
    "        df.to_sql(name='cpi', if_exists='replace', index=False, con=con)\n",
    "\n",
    "    except:\n",
    "        # TODO: Better failure logging\n",
    "        print(f\"Failed: {url}\")\n",
    " \n"
   ]
  },
  {
   "cell_type": "code",
   "execution_count": 3,
   "id": "762db278-d3f7-44e6-b717-7431ab75f517",
   "metadata": {},
   "outputs": [
    {
     "name": "stdout",
     "output_type": "stream",
     "text": [
      "Parsing CPI data\n"
     ]
    }
   ],
   "source": [
    "build_cpi_dataset()"
   ]
  }
 ],
 "metadata": {
  "kernelspec": {
   "display_name": "Python 3 (ipykernel)",
   "language": "python",
   "name": "python3"
  },
  "language_info": {
   "codemirror_mode": {
    "name": "ipython",
    "version": 3
   },
   "file_extension": ".py",
   "mimetype": "text/x-python",
   "name": "python",
   "nbconvert_exporter": "python",
   "pygments_lexer": "ipython3",
   "version": "3.8.10"
  }
 },
 "nbformat": 4,
 "nbformat_minor": 5
}
