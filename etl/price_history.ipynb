{
 "cells": [
  {
   "cell_type": "code",
   "execution_count": null,
   "id": "27c470bd-0bd9-469c-8b3b-1c62737f1fb3",
   "metadata": {},
   "outputs": [],
   "source": [
    "import requests\n",
    "import configparser\n",
    "import pandas as pd\n",
    "import requests\n",
    "import sqlite3\n",
    "import time"
   ]
  },
  {
   "cell_type": "code",
   "execution_count": null,
   "id": "2bf3fa73-e9c8-4ddd-a29a-95d6133f25a1",
   "metadata": {},
   "outputs": [],
   "source": [
    "def sqlite_connection():\n",
    "    \n",
    "    return sqlite3.connect('../data/database/ai_systems')"
   ]
  },
  {
   "cell_type": "code",
   "execution_count": null,
   "id": "6dbf86f7-d85c-47be-b372-e0bd888cf309",
   "metadata": {},
   "outputs": [],
   "source": [
    "def get_apikey():\n",
    "    \n",
    "    config = configparser.ConfigParser()\n",
    "    config.read('../config.ini')\n",
    "    \n",
    "    return config['DEFAULT']['APIKEY']"
   ]
  },
  {
   "cell_type": "code",
   "execution_count": null,
   "id": "5e71906c-b1c5-44d6-bfb3-75b5ba2157e2",
   "metadata": {},
   "outputs": [],
   "source": [
    "def get_symbol_list():\n",
    "    \n",
    "    df = pd.read_csv('../data/static/sandp100.csv')\n",
    "    \n",
    "    return df['Ticker'].tolist()"
   ]
  },
  {
   "cell_type": "code",
   "execution_count": null,
   "id": "65051cc2-da54-468a-9a8a-c1b3224fb663",
   "metadata": {},
   "outputs": [],
   "source": [
    "def build_dataset():\n",
    "    \n",
    "    api_key = get_apikey()\n",
    "    symbol_list = get_symbol_list()\n",
    "    con = sqlite_connection()\n",
    "    \n",
    "    for symbol in symbol_list:\n",
    "        \n",
    "        time.sleep(10)\n",
    "        url = f\"https://www.alphavantage.co/query?function=TIME_SERIES_WEEKLY&symbol={symbol}&apikey={api_key}\"\n",
    "        \n",
    "        try:\n",
    "            \n",
    "            print(f\"Parsing {symbol}\")\n",
    "            response = requests.get(url)\n",
    "            json = response.json()['Weekly Time Series']\n",
    "\n",
    "            df = pd.DataFrame.from_dict(json, orient='index')\n",
    "            df.columns = [col.split(' ')[1] for col in df.columns]\n",
    "            df = df.reset_index()\n",
    "            df.rename(columns = {'index': 'date'}, inplace = True)\n",
    "            df['ticker'] = symbol\n",
    "\n",
    "            df.to_sql(name='weekly_prices', if_exists='append', index=False, con=con)\n",
    "        \n",
    "        except:\n",
    "            print(f\"Failed: {url}\")\n"
   ]
  },
  {
   "cell_type": "code",
   "execution_count": null,
   "id": "762db278-d3f7-44e6-b717-7431ab75f517",
   "metadata": {},
   "outputs": [],
   "source": [
    "build_dataset()"
   ]
  }
 ],
 "metadata": {
  "kernelspec": {
   "display_name": "Python 3 (ipykernel)",
   "language": "python",
   "name": "python3"
  },
  "language_info": {
   "codemirror_mode": {
    "name": "ipython",
    "version": 3
   },
   "file_extension": ".py",
   "mimetype": "text/x-python",
   "name": "python",
   "nbconvert_exporter": "python",
   "pygments_lexer": "ipython3",
   "version": "3.8.10"
  }
 },
 "nbformat": 4,
 "nbformat_minor": 5
}
