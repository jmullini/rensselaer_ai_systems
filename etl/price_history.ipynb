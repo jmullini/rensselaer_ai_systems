{
 "cells": [
  {
   "cell_type": "code",
   "execution_count": null,
   "id": "27c470bd-0bd9-469c-8b3b-1c62737f1fb3",
   "metadata": {},
   "outputs": [],
   "source": [
    "import pandas as pd\n",
    "import requests\n",
    "import time\n",
    "\n",
    "from etl_resources import sqlite_connection, get_api_key, get_symbol_list"
   ]
  },
  {
   "cell_type": "code",
   "execution_count": null,
   "id": "65051cc2-da54-468a-9a8a-c1b3224fb663",
   "metadata": {},
   "outputs": [],
   "source": [
    "def build_prices_dataset():\n",
    "    \n",
    "    '''\n",
    "    This function uses the alphavantage api to pull pricing information for \n",
    "    S&P 100 equities on a weekly basis. Weekly data has a much longer history.\n",
    "    The dataframes are transposed and written to the local sqlite database for\n",
    "    future use.\n",
    "    '''\n",
    "    \n",
    "    api_key = get_api_key()\n",
    "    symbol_list = get_symbol_list()\n",
    "    con = sqlite_connection()\n",
    "    \n",
    "    for symbol in symbol_list:\n",
    "        \n",
    "        time.sleep(10) # Handle the rate limiter\n",
    "        url = f\"https://www.alphavantage.co/query?function=TIME_SERIES_WEEKLY&symbol={symbol}&apikey={api_key}\"\n",
    "        \n",
    "        try:\n",
    "            \n",
    "            print(f\"Parsing {symbol}\")\n",
    "            response = requests.get(url)\n",
    "            json = response.json()['Weekly Time Series']\n",
    "\n",
    "            df = pd.DataFrame.from_dict(json, orient='index')\n",
    "            df.columns = [col.split(' ')[1] for col in df.columns]\n",
    "            df = df.reset_index()\n",
    "            df.rename(columns = {'index': 'date'}, inplace = True)\n",
    "            df['ticker'] = symbol\n",
    "\n",
    "            df.to_sql(name='weekly_prices', if_exists='append', index=False, con=con)\n",
    "        \n",
    "        except:\n",
    "            print(f\"Failed: {url}\")\n"
   ]
  },
  {
   "cell_type": "code",
   "execution_count": null,
   "id": "762db278-d3f7-44e6-b717-7431ab75f517",
   "metadata": {},
   "outputs": [],
   "source": [
    "build_prices_dataset()"
   ]
  }
 ],
 "metadata": {
  "kernelspec": {
   "display_name": "Python 3 (ipykernel)",
   "language": "python",
   "name": "python3"
  },
  "language_info": {
   "codemirror_mode": {
    "name": "ipython",
    "version": 3
   },
   "file_extension": ".py",
   "mimetype": "text/x-python",
   "name": "python",
   "nbconvert_exporter": "python",
   "pygments_lexer": "ipython3",
   "version": "3.8.10"
  }
 },
 "nbformat": 4,
 "nbformat_minor": 5
}
