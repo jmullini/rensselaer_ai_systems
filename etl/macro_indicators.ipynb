{
 "cells": [
  {
   "cell_type": "code",
   "execution_count": 1,
   "id": "27c470bd-0bd9-469c-8b3b-1c62737f1fb3",
   "metadata": {},
   "outputs": [],
   "source": [
    "import pandas as pd\n",
    "import requests\n",
    "import time\n",
    "\n",
    "from etl_resources import sqlite_connection, get_api_key, get_symbol_list"
   ]
  },
  {
   "cell_type": "code",
   "execution_count": 2,
   "id": "2403a90e-f6f6-482d-aa32-e62baf8c1170",
   "metadata": {},
   "outputs": [],
   "source": [
    "def endpoints():\n",
    "    \n",
    "    api_key = get_api_key()\n",
    "    \n",
    "    _endpoints = {\n",
    "    'cpi': f\"https://www.alphavantage.co/query?function=CPI&interval=monthly&apikey={api_key}\",\n",
    "    'federal_funds': f\"https://www.alphavantage.co/query?function=FEDERAL_FUNDS_RATE&interval=monthly&apikey={api_key}\",\n",
    "    'gdp': f\"https://www.alphavantage.co/query?function=REAL_GDP&interval=quarterly&apikey={api_key}\",\n",
    "    'retail_sales': f\"https://www.alphavantage.co/query?function=RETAIL_SALES&apikey={api_key}\",\n",
    "    'unemployment': f\"https://www.alphavantage.co/query?function=UNEMPLOYMENT&apikey={api_key}\"    \n",
    "    }\n",
    "    \n",
    "    return _endpoints"
   ]
  },
  {
   "cell_type": "code",
   "execution_count": 3,
   "id": "65051cc2-da54-468a-9a8a-c1b3224fb663",
   "metadata": {},
   "outputs": [],
   "source": [
    "def macro_indicators():\n",
    "    \n",
    "    '''\n",
    "    This function uses the alphavantage api to pull macro indicators\n",
    "    '''\n",
    "    \n",
    "    con = sqlite_connection()\n",
    "\n",
    "    _endpoints = endpoints()\n",
    "    \n",
    "    for table, endpoint in _endpoints.items():\n",
    "        try:\n",
    "\n",
    "            print(f\"Parsing {table} data\")\n",
    "            response = requests.get(f\"{endpoint}\")\n",
    "            json = response.json()[\"data\"]\n",
    "            df = pd.DataFrame.from_dict(json)\n",
    "\n",
    "            df.to_sql(name=f\"{table}\", if_exists='replace', index=False, con=con)\n",
    "\n",
    "        except:\n",
    "            # TODO: Better failure logging\n",
    "            print(f\"Failed: {table}\")\n",
    " \n"
   ]
  },
  {
   "cell_type": "code",
   "execution_count": 4,
   "id": "7b8b275f-3116-4e97-b5a1-28030bf2018d",
   "metadata": {},
   "outputs": [],
   "source": [
    "def process_macro_datatypes():\n",
    "    \n",
    "    '''\n",
    "    This function cleans up the datatypes for the 2 fields in these macro indicator tables.\n",
    "    '''\n",
    "    \n",
    "    _endpoints = endpoints()\n",
    "    con = sqlite_connection()\n",
    "    \n",
    "    for table in _endpoints:\n",
    "        \n",
    "        print(f\"Processing {table}\")\n",
    "        df = pd.read_sql(f\"select * from {table}\",con=con)\n",
    "        df['date'] = pd.to_datetime(df['date'])\n",
    "        df['value'] = pd.to_numeric(df['value'])\n",
    "        \n",
    "        df.to_sql(f\"{table}_clean\",con=con)\n",
    "        "
   ]
  },
  {
   "cell_type": "code",
   "execution_count": null,
   "id": "b6315434-e0cc-42b0-984b-ee3d04e2246e",
   "metadata": {},
   "outputs": [],
   "source": [
    "def process_timeseries_differences():\n",
    "    \n",
    "    _endpoints = endpoints()\n",
    "    con = sqlite_connection()\n",
    "    \n",
    "    for table in _endpoints:\n",
    "        \n",
    "        "
   ]
  },
  {
   "cell_type": "code",
   "execution_count": 5,
   "id": "762db278-d3f7-44e6-b717-7431ab75f517",
   "metadata": {},
   "outputs": [],
   "source": [
    "def main():\n",
    "    macro_indicators()\n",
    "    process_macro_datatypes()"
   ]
  },
  {
   "cell_type": "code",
   "execution_count": 6,
   "id": "dade516a-06e0-4e0f-81cb-23ff3db7382a",
   "metadata": {},
   "outputs": [
    {
     "name": "stdout",
     "output_type": "stream",
     "text": [
      "Parsing cpi data\n",
      "Parsing federal_funds data\n",
      "Parsing gdp data\n",
      "Parsing retail_sales data\n",
      "Parsing unemployment data\n",
      "Processing cpi\n",
      "Processing federal_funds\n",
      "Processing gdp\n",
      "Processing retail_sales\n",
      "Processing unemployment\n"
     ]
    }
   ],
   "source": [
    "main()"
   ]
  },
  {
   "cell_type": "code",
   "execution_count": null,
   "id": "4813129d-276c-4cc3-a34f-1ef070f5998b",
   "metadata": {},
   "outputs": [],
   "source": []
  }
 ],
 "metadata": {
  "kernelspec": {
   "display_name": "Python 3 (ipykernel)",
   "language": "python",
   "name": "python3"
  },
  "language_info": {
   "codemirror_mode": {
    "name": "ipython",
    "version": 3
   },
   "file_extension": ".py",
   "mimetype": "text/x-python",
   "name": "python",
   "nbconvert_exporter": "python",
   "pygments_lexer": "ipython3",
   "version": "3.8.10"
  }
 },
 "nbformat": 4,
 "nbformat_minor": 5
}
